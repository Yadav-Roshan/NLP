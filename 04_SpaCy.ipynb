{
  "nbformat": 4,
  "nbformat_minor": 0,
  "metadata": {
    "colab": {
      "provenance": [],
      "authorship_tag": "ABX9TyOhhM2enRWH4gS29E46Y8Op",
      "include_colab_link": true
    },
    "kernelspec": {
      "name": "python3",
      "display_name": "Python 3"
    },
    "language_info": {
      "name": "python"
    }
  },
  "cells": [
    {
      "cell_type": "markdown",
      "metadata": {
        "id": "view-in-github",
        "colab_type": "text"
      },
      "source": [
        "<a href=\"https://colab.research.google.com/github/Yadav-Roshan/NLP/blob/main/04_SpaCy.ipynb\" target=\"_parent\"><img src=\"https://colab.research.google.com/assets/colab-badge.svg\" alt=\"Open In Colab\"/></a>"
      ]
    },
    {
      "cell_type": "code",
      "execution_count": null,
      "metadata": {
        "colab": {
          "base_uri": "https://localhost:8080/"
        },
        "id": "V0jN-zYGLuo9",
        "outputId": "3060a8d4-1367-4d8c-d805-d6cda598baa0"
      },
      "outputs": [
        {
          "output_type": "stream",
          "name": "stdout",
          "text": [
            "Successfully installed en-core-web-lg-3.5.0\n",
            "\u001b[38;5;2m✔ Download and installation successful\u001b[0m\n",
            "You can now load the package via spacy.load('en_core_web_lg')\n"
          ]
        }
      ],
      "source": [
        "!pip install spacy\n",
        "!python -m spacy download en_core_web_lg"
      ]
    },
    {
      "cell_type": "markdown",
      "source": [
        "Sentence & Word Tokenization in Spacy"
      ],
      "metadata": {
        "id": "4r_dEwnaOIKs"
      }
    },
    {
      "cell_type": "code",
      "source": [
        "import spacy\n",
        "from spacy import displacy"
      ],
      "metadata": {
        "id": "WwF_EuOlMuLq"
      },
      "execution_count": null,
      "outputs": []
    },
    {
      "cell_type": "code",
      "source": [
        "text = '''Abraham Lincoln was an American lawyer, politician, and statesman who served as the 16th president of the United States from 1861 until his assassination in 1865. Lincoln led the Union through the American Civil War to defend the nation as a constitutional union and succeeded in abolishing slavery, bolstering the federal government, and modernizing the U.S. economy.\n",
        "Lincoln was born into poverty in a log cabin in Kentucky and was raised on the frontier, primarily in Indiana. He was self-educated and became a lawyer, Whig Party leader, Illinois state legislator, and U.S. congressman from Illinois. In 1849, he returned to his successful law practice in Springfield, Illinois. In 1854, he was angered by the Kansas–Nebraska Act, which opened the territories to slavery, and he re-entered politics. He soon became a leader of the new Republican Party. He reached a national audience in the 1858 Senate campaign debates against Stephen A. Douglas. Lincoln ran for president in 1860, sweeping the North to gain victory. Pro-slavery elements in the South viewed his election as a threat to slavery, and Southern states began seceding from the nation. During this time, the newly formed Confederate States of America began seizing federal military bases in the south. Just over one month after Lincoln assumed the presidency, the Confederate States attacked Fort Sumter, a U.S. fort in South Carolina. Following the bombardment, Lincoln mobilized forces to suppress the rebellion and restore the union.'''"
      ],
      "metadata": {
        "id": "xTAEHpnOOLXH"
      },
      "execution_count": null,
      "outputs": []
    },
    {
      "cell_type": "code",
      "source": [
        "nlp = spacy.load(\"en_core_web_lg\")\n",
        "\n",
        "doc = nlp(text)"
      ],
      "metadata": {
        "id": "S0tthugPObNB"
      },
      "execution_count": null,
      "outputs": []
    },
    {
      "cell_type": "code",
      "source": [
        "doc.has_annotation(\"DEP\")"
      ],
      "metadata": {
        "colab": {
          "base_uri": "https://localhost:8080/"
        },
        "id": "XqSGqPIiOmPE",
        "outputId": "6c38f597-bc5a-4f2b-8ae3-2eae6f830847"
      },
      "execution_count": null,
      "outputs": [
        {
          "output_type": "execute_result",
          "data": {
            "text/plain": [
              "True"
            ]
          },
          "metadata": {},
          "execution_count": 18
        }
      ]
    },
    {
      "cell_type": "code",
      "source": [
        "for sentence in doc.sents:\n",
        "  print(sentence)"
      ],
      "metadata": {
        "colab": {
          "base_uri": "https://localhost:8080/"
        },
        "id": "3cyqBx9iO2iC",
        "outputId": "45cd5370-f3e7-4664-f17a-cf527c8f4014"
      },
      "execution_count": null,
      "outputs": [
        {
          "output_type": "stream",
          "name": "stdout",
          "text": [
            "Abraham Lincoln was an American lawyer, politician, and statesman who served as the 16th president of the United States from 1861 until his assassination in 1865.\n",
            "Lincoln led the Union through the American Civil War to defend the nation as a constitutional union and succeeded in abolishing slavery, bolstering the federal government, and modernizing the U.S. economy.\n",
            "\n",
            "Lincoln was born into poverty in a log cabin in Kentucky and was raised on the frontier, primarily in Indiana.\n",
            "He was self-educated and became a lawyer, Whig Party leader, Illinois state legislator, and U.S. congressman from Illinois.\n",
            "In 1849, he returned to his successful law practice in Springfield, Illinois.\n",
            "In 1854, he was angered by the Kansas–Nebraska Act, which opened the territories to slavery, and he re-entered politics.\n",
            "He soon became a leader of the new Republican Party.\n",
            "He reached a national audience in the 1858 Senate campaign debates against Stephen A. Douglas.\n",
            "Lincoln ran for president in 1860, sweeping the North to gain victory.\n",
            "Pro-slavery elements in the South viewed his election as a threat to slavery, and Southern states began seceding from the nation.\n",
            "During this time, the newly formed Confederate States of America began seizing federal military bases in the south.\n",
            "Just over one month after Lincoln assumed the presidency, the Confederate States attacked Fort Sumter, a U.S. fort in South Carolina.\n",
            "Following the bombardment, Lincoln mobilized forces to suppress the rebellion and restore the union.\n"
          ]
        }
      ]
    },
    {
      "cell_type": "code",
      "source": [
        "for sentence in doc.sents:\n",
        "  for word in sentence:\n",
        "    print(word)"
      ],
      "metadata": {
        "colab": {
          "base_uri": "https://localhost:8080/"
        },
        "id": "-EizekazRAHv",
        "outputId": "28b5fb5e-32d8-4edb-dd99-30dfe175e9dd"
      },
      "execution_count": null,
      "outputs": [
        {
          "output_type": "stream",
          "name": "stdout",
          "text": [
            "Abraham\n",
            "Lincoln\n",
            "was\n",
            "an\n",
            "American\n",
            "lawyer\n",
            ",\n",
            "politician\n",
            ",\n",
            "and\n",
            "statesman\n",
            "who\n",
            "served\n",
            "as\n",
            "the\n",
            "16th\n",
            "president\n",
            "of\n",
            "the\n",
            "United\n",
            "States\n",
            "from\n",
            "1861\n",
            "until\n",
            "his\n",
            "assassination\n",
            "in\n",
            "1865\n",
            ".\n",
            "Lincoln\n",
            "led\n",
            "the\n",
            "Union\n",
            "through\n",
            "the\n",
            "American\n",
            "Civil\n",
            "War\n",
            "to\n",
            "defend\n",
            "the\n",
            "nation\n",
            "as\n",
            "a\n",
            "constitutional\n",
            "union\n",
            "and\n",
            "succeeded\n",
            "in\n",
            "abolishing\n",
            "slavery\n",
            ",\n",
            "bolstering\n",
            "the\n",
            "federal\n",
            "government\n",
            ",\n",
            "and\n",
            "modernizing\n",
            "the\n",
            "U.S.\n",
            "economy\n",
            ".\n",
            "\n",
            "\n",
            "Lincoln\n",
            "was\n",
            "born\n",
            "into\n",
            "poverty\n",
            "in\n",
            "a\n",
            "log\n",
            "cabin\n",
            "in\n",
            "Kentucky\n",
            "and\n",
            "was\n",
            "raised\n",
            "on\n",
            "the\n",
            "frontier\n",
            ",\n",
            "primarily\n",
            "in\n",
            "Indiana\n",
            ".\n",
            "He\n",
            "was\n",
            "self\n",
            "-\n",
            "educated\n",
            "and\n",
            "became\n",
            "a\n",
            "lawyer\n",
            ",\n",
            "Whig\n",
            "Party\n",
            "leader\n",
            ",\n",
            "Illinois\n",
            "state\n",
            "legislator\n",
            ",\n",
            "and\n",
            "U.S.\n",
            "congressman\n",
            "from\n",
            "Illinois\n",
            ".\n",
            "In\n",
            "1849\n",
            ",\n",
            "he\n",
            "returned\n",
            "to\n",
            "his\n",
            "successful\n",
            "law\n",
            "practice\n",
            "in\n",
            "Springfield\n",
            ",\n",
            "Illinois\n",
            ".\n",
            "In\n",
            "1854\n",
            ",\n",
            "he\n",
            "was\n",
            "angered\n",
            "by\n",
            "the\n",
            "Kansas\n",
            "–\n",
            "Nebraska\n",
            "Act\n",
            ",\n",
            "which\n",
            "opened\n",
            "the\n",
            "territories\n",
            "to\n",
            "slavery\n",
            ",\n",
            "and\n",
            "he\n",
            "re\n",
            "-\n",
            "entered\n",
            "politics\n",
            ".\n",
            "He\n",
            "soon\n",
            "became\n",
            "a\n",
            "leader\n",
            "of\n",
            "the\n",
            "new\n",
            "Republican\n",
            "Party\n",
            ".\n",
            "He\n",
            "reached\n",
            "a\n",
            "national\n",
            "audience\n",
            "in\n",
            "the\n",
            "1858\n",
            "Senate\n",
            "campaign\n",
            "debates\n",
            "against\n",
            "Stephen\n",
            "A.\n",
            "Douglas\n",
            ".\n",
            "Lincoln\n",
            "ran\n",
            "for\n",
            "president\n",
            "in\n",
            "1860\n",
            ",\n",
            "sweeping\n",
            "the\n",
            "North\n",
            "to\n",
            "gain\n",
            "victory\n",
            ".\n",
            "Pro\n",
            "-\n",
            "slavery\n",
            "elements\n",
            "in\n",
            "the\n",
            "South\n",
            "viewed\n",
            "his\n",
            "election\n",
            "as\n",
            "a\n",
            "threat\n",
            "to\n",
            "slavery\n",
            ",\n",
            "and\n",
            "Southern\n",
            "states\n",
            "began\n",
            "seceding\n",
            "from\n",
            "the\n",
            "nation\n",
            ".\n",
            "During\n",
            "this\n",
            "time\n",
            ",\n",
            "the\n",
            "newly\n",
            "formed\n",
            "Confederate\n",
            "States\n",
            "of\n",
            "America\n",
            "began\n",
            "seizing\n",
            "federal\n",
            "military\n",
            "bases\n",
            "in\n",
            "the\n",
            "south\n",
            ".\n",
            "Just\n",
            "over\n",
            "one\n",
            "month\n",
            "after\n",
            "Lincoln\n",
            "assumed\n",
            "the\n",
            "presidency\n",
            ",\n",
            "the\n",
            "Confederate\n",
            "States\n",
            "attacked\n",
            "Fort\n",
            "Sumter\n",
            ",\n",
            "a\n",
            "U.S.\n",
            "fort\n",
            "in\n",
            "South\n",
            "Carolina\n",
            ".\n",
            "Following\n",
            "the\n",
            "bombardment\n",
            ",\n",
            "Lincoln\n",
            "mobilized\n",
            "forces\n",
            "to\n",
            "suppress\n",
            "the\n",
            "rebellion\n",
            "and\n",
            "restore\n",
            "the\n",
            "union\n",
            ".\n"
          ]
        }
      ]
    },
    {
      "cell_type": "code",
      "source": [
        "print(dir(doc))"
      ],
      "metadata": {
        "colab": {
          "base_uri": "https://localhost:8080/"
        },
        "id": "Q9wq5c30RZs6",
        "outputId": "b5755073-c58e-467d-bf6f-0894a5199beb"
      },
      "execution_count": null,
      "outputs": [
        {
          "output_type": "stream",
          "name": "stdout",
          "text": [
            "['_', '__bytes__', '__class__', '__delattr__', '__dir__', '__doc__', '__eq__', '__format__', '__ge__', '__getattribute__', '__getitem__', '__gt__', '__hash__', '__init__', '__init_subclass__', '__iter__', '__le__', '__len__', '__lt__', '__ne__', '__new__', '__pyx_vtable__', '__reduce__', '__reduce_ex__', '__repr__', '__setattr__', '__setstate__', '__sizeof__', '__str__', '__subclasshook__', '__unicode__', '_bulk_merge', '_context', '_get_array_attrs', '_realloc', '_vector', '_vector_norm', 'cats', 'char_span', 'copy', 'count_by', 'doc', 'ents', 'extend_tensor', 'from_array', 'from_bytes', 'from_dict', 'from_disk', 'from_docs', 'from_json', 'get_extension', 'get_lca_matrix', 'has_annotation', 'has_extension', 'has_unknown_spaces', 'has_vector', 'is_nered', 'is_parsed', 'is_sentenced', 'is_tagged', 'lang', 'lang_', 'mem', 'noun_chunks', 'noun_chunks_iterator', 'remove_extension', 'retokenize', 'sentiment', 'sents', 'set_ents', 'set_extension', 'similarity', 'spans', 'tensor', 'text', 'text_with_ws', 'to_array', 'to_bytes', 'to_dict', 'to_disk', 'to_json', 'to_utf8_array', 'user_data', 'user_hooks', 'user_span_hooks', 'user_token_hooks', 'vector', 'vector_norm', 'vocab']\n"
          ]
        }
      ]
    },
    {
      "cell_type": "code",
      "source": [
        "doc.has_annotation(\"TAG\")"
      ],
      "metadata": {
        "colab": {
          "base_uri": "https://localhost:8080/"
        },
        "id": "ZSR_BuVjRq5X",
        "outputId": "131b20aa-543e-4408-dcf8-fbcf9bba1c25"
      },
      "execution_count": null,
      "outputs": [
        {
          "output_type": "execute_result",
          "data": {
            "text/plain": [
              "True"
            ]
          },
          "metadata": {},
          "execution_count": 32
        }
      ]
    },
    {
      "cell_type": "code",
      "source": [
        "for token in doc[0:29]:\n",
        "  print('{:15} | {:15} | {:8} | {:8} | {:11} | {:8} | {:8} | {:8} |'.format(token.text, token.lemma_, token.pos_, token.tag_, token.dep_, token.shape_, token.is_alpha, token.is_stop))"
      ],
      "metadata": {
        "colab": {
          "base_uri": "https://localhost:8080/"
        },
        "id": "KfSq0PIISDZF",
        "outputId": "6964edc6-a8aa-40d8-c199-e523d8acab9b"
      },
      "execution_count": null,
      "outputs": [
        {
          "output_type": "stream",
          "name": "stdout",
          "text": [
            "Abraham         | Abraham         | PROPN    | NNP      | compound    | Xxxxx    |        1 |        0 |\n",
            "Lincoln         | Lincoln         | PROPN    | NNP      | nsubj       | Xxxxx    |        1 |        0 |\n",
            "was             | be              | AUX      | VBD      | ROOT        | xxx      |        1 |        1 |\n",
            "an              | an              | DET      | DT       | det         | xx       |        1 |        1 |\n",
            "American        | american        | ADJ      | JJ       | amod        | Xxxxx    |        1 |        0 |\n",
            "lawyer          | lawyer          | NOUN     | NN       | attr        | xxxx     |        1 |        0 |\n",
            ",               | ,               | PUNCT    | ,        | punct       | ,        |        0 |        0 |\n",
            "politician      | politician      | NOUN     | NN       | conj        | xxxx     |        1 |        0 |\n",
            ",               | ,               | PUNCT    | ,        | punct       | ,        |        0 |        0 |\n",
            "and             | and             | CCONJ    | CC       | cc          | xxx      |        1 |        1 |\n",
            "statesman       | statesman       | NOUN     | NN       | conj        | xxxx     |        1 |        0 |\n",
            "who             | who             | PRON     | WP       | nsubj       | xxx      |        1 |        1 |\n",
            "served          | serve           | VERB     | VBD      | relcl       | xxxx     |        1 |        0 |\n",
            "as              | as              | ADP      | IN       | prep        | xx       |        1 |        1 |\n",
            "the             | the             | DET      | DT       | det         | xxx      |        1 |        1 |\n",
            "16th            | 16th            | ADJ      | JJ       | amod        | ddxx     |        0 |        0 |\n",
            "president       | president       | NOUN     | NN       | pobj        | xxxx     |        1 |        0 |\n",
            "of              | of              | ADP      | IN       | prep        | xx       |        1 |        1 |\n",
            "the             | the             | DET      | DT       | det         | xxx      |        1 |        1 |\n",
            "United          | United          | PROPN    | NNP      | compound    | Xxxxx    |        1 |        0 |\n",
            "States          | States          | PROPN    | NNP      | pobj        | Xxxxx    |        1 |        0 |\n",
            "from            | from            | ADP      | IN       | prep        | xxxx     |        1 |        1 |\n",
            "1861            | 1861            | NUM      | CD       | pobj        | dddd     |        0 |        0 |\n",
            "until           | until           | ADP      | IN       | prep        | xxxx     |        1 |        1 |\n",
            "his             | his             | PRON     | PRP$     | poss        | xxx      |        1 |        1 |\n",
            "assassination   | assassination   | NOUN     | NN       | pobj        | xxxx     |        1 |        0 |\n",
            "in              | in              | ADP      | IN       | prep        | xx       |        1 |        1 |\n",
            "1865            | 1865            | NUM      | CD       | pobj        | dddd     |        0 |        0 |\n",
            ".               | .               | PUNCT    | .        | punct       | .        |        0 |        0 |\n"
          ]
        }
      ]
    },
    {
      "cell_type": "code",
      "source": [
        "# Noun Adjective Phrase\n",
        "\n",
        "previous_token = doc[0]\n",
        "\n",
        "for token in doc[1:]:\n",
        "  if previous_token.pos_ == \"ADJ\" and token.pos_ == \"NOUN\":\n",
        "    print(f'{previous_token.text}_{token.text}')\n",
        "\n",
        "  previous_token = token"
      ],
      "metadata": {
        "colab": {
          "base_uri": "https://localhost:8080/"
        },
        "id": "AujnFQbaTIq4",
        "outputId": "748cb5ae-9567-4c4b-f703-cb59112ca3c3"
      },
      "execution_count": null,
      "outputs": [
        {
          "output_type": "stream",
          "name": "stdout",
          "text": [
            "American_lawyer\n",
            "16th_president\n",
            "constitutional_union\n",
            "federal_government\n",
            "successful_law\n",
            "national_audience\n",
            "slavery_elements\n",
            "Southern_states\n",
            "military_bases\n"
          ]
        }
      ]
    },
    {
      "cell_type": "code",
      "source": [
        "print('{:15} | {:10} | {:15} | {:10} | {:40} | {:25} |'.format(\"TEXT\", \"ATT\", \"HEAD TEXT\", \"HEAD POS\", \"CHILDREN\", 'LEFTS'))\n",
        "print(\"-\"*132)\n",
        "for token in doc[0:29]:\n",
        "  print('{:15} | {:10} | {:15} | {:10} | {:40} | {:25} |'.format(token.text, token.dep_, token.head.text, token.head.pos_, str([child for child in token.children]), str([t.text for t in token.lefts])))"
      ],
      "metadata": {
        "colab": {
          "base_uri": "https://localhost:8080/"
        },
        "id": "QsJ6YM8OViNw",
        "outputId": "8970e011-45bc-4f25-fca8-66dd28c6264a"
      },
      "execution_count": null,
      "outputs": [
        {
          "output_type": "stream",
          "name": "stdout",
          "text": [
            "TEXT            | ATT        | HEAD TEXT       | HEAD POS   | CHILDREN                                 | LEFTS                     |\n",
            "------------------------------------------------------------------------------------------------------------------------------------\n",
            "Abraham         | compound   | Lincoln         | PROPN      | []                                       | []                        |\n",
            "Lincoln         | nsubj      | was             | AUX        | [Abraham]                                | ['Abraham']               |\n",
            "was             | ROOT       | was             | AUX        | [Lincoln, lawyer, .]                     | ['Lincoln']               |\n",
            "an              | det        | lawyer          | NOUN       | []                                       | []                        |\n",
            "American        | amod       | lawyer          | NOUN       | []                                       | []                        |\n",
            "lawyer          | attr       | was             | AUX        | [an, American, ,, politician, served]    | ['an', 'American']        |\n",
            ",               | punct      | lawyer          | NOUN       | []                                       | []                        |\n",
            "politician      | conj       | lawyer          | NOUN       | [,, and, statesman]                      | []                        |\n",
            ",               | punct      | politician      | NOUN       | []                                       | []                        |\n",
            "and             | cc         | politician      | NOUN       | []                                       | []                        |\n",
            "statesman       | conj       | politician      | NOUN       | []                                       | []                        |\n",
            "who             | nsubj      | served          | VERB       | []                                       | []                        |\n",
            "served          | relcl      | lawyer          | NOUN       | [who, as, from, until]                   | ['who']                   |\n",
            "as              | prep       | served          | VERB       | [president]                              | []                        |\n",
            "the             | det        | president       | NOUN       | []                                       | []                        |\n",
            "16th            | amod       | president       | NOUN       | []                                       | []                        |\n",
            "president       | pobj       | as              | ADP        | [the, 16th, of]                          | ['the', '16th']           |\n",
            "of              | prep       | president       | NOUN       | [States]                                 | []                        |\n",
            "the             | det        | States          | PROPN      | []                                       | []                        |\n",
            "United          | compound   | States          | PROPN      | []                                       | []                        |\n",
            "States          | pobj       | of              | ADP        | [the, United]                            | ['the', 'United']         |\n",
            "from            | prep       | served          | VERB       | [1861]                                   | []                        |\n",
            "1861            | pobj       | from            | ADP        | []                                       | []                        |\n",
            "until           | prep       | served          | VERB       | [assassination]                          | []                        |\n",
            "his             | poss       | assassination   | NOUN       | []                                       | []                        |\n",
            "assassination   | pobj       | until           | ADP        | [his, in]                                | ['his']                   |\n",
            "in              | prep       | assassination   | NOUN       | [1865]                                   | []                        |\n",
            "1865            | pobj       | in              | ADP        | []                                       | []                        |\n",
            ".               | punct      | was             | AUX        | []                                       | []                        |\n"
          ]
        }
      ]
    },
    {
      "cell_type": "code",
      "source": [
        "import matplotlib.pyplot as plt"
      ],
      "metadata": {
        "id": "-8HRWlukZ6AE"
      },
      "execution_count": null,
      "outputs": []
    },
    {
      "cell_type": "code",
      "source": [
        "displacy.render(docs = doc[0:29], style = 'dep', jupyter= True)"
      ],
      "metadata": {
        "colab": {
          "base_uri": "https://localhost:8080/",
          "height": 616
        },
        "id": "2Nx44L2xXc6Q",
        "outputId": "54932143-2944-4cae-c9cc-040289d228fe"
      },
      "execution_count": null,
      "outputs": [
        {
          "output_type": "display_data",
          "data": {
            "text/plain": [
              "<IPython.core.display.HTML object>"
            ],
            "text/html": [
              "<span class=\"tex2jax_ignore\"><svg xmlns=\"http://www.w3.org/2000/svg\" xmlns:xlink=\"http://www.w3.org/1999/xlink\" xml:lang=\"en\" id=\"c542c409286a4e40b37cf6f940f2e092-0\" class=\"displacy\" width=\"4600\" height=\"574.5\" direction=\"ltr\" style=\"max-width: none; height: 574.5px; color: #000000; background: #ffffff; font-family: Arial; direction: ltr\">\n",
              "<text class=\"displacy-token\" fill=\"currentColor\" text-anchor=\"middle\" y=\"484.5\">\n",
              "    <tspan class=\"displacy-word\" fill=\"currentColor\" x=\"50\">Abraham</tspan>\n",
              "    <tspan class=\"displacy-tag\" dy=\"2em\" fill=\"currentColor\" x=\"50\">PROPN</tspan>\n",
              "</text>\n",
              "\n",
              "<text class=\"displacy-token\" fill=\"currentColor\" text-anchor=\"middle\" y=\"484.5\">\n",
              "    <tspan class=\"displacy-word\" fill=\"currentColor\" x=\"225\">Lincoln</tspan>\n",
              "    <tspan class=\"displacy-tag\" dy=\"2em\" fill=\"currentColor\" x=\"225\">PROPN</tspan>\n",
              "</text>\n",
              "\n",
              "<text class=\"displacy-token\" fill=\"currentColor\" text-anchor=\"middle\" y=\"484.5\">\n",
              "    <tspan class=\"displacy-word\" fill=\"currentColor\" x=\"400\">was</tspan>\n",
              "    <tspan class=\"displacy-tag\" dy=\"2em\" fill=\"currentColor\" x=\"400\">AUX</tspan>\n",
              "</text>\n",
              "\n",
              "<text class=\"displacy-token\" fill=\"currentColor\" text-anchor=\"middle\" y=\"484.5\">\n",
              "    <tspan class=\"displacy-word\" fill=\"currentColor\" x=\"575\">an</tspan>\n",
              "    <tspan class=\"displacy-tag\" dy=\"2em\" fill=\"currentColor\" x=\"575\">DET</tspan>\n",
              "</text>\n",
              "\n",
              "<text class=\"displacy-token\" fill=\"currentColor\" text-anchor=\"middle\" y=\"484.5\">\n",
              "    <tspan class=\"displacy-word\" fill=\"currentColor\" x=\"750\">American</tspan>\n",
              "    <tspan class=\"displacy-tag\" dy=\"2em\" fill=\"currentColor\" x=\"750\">ADJ</tspan>\n",
              "</text>\n",
              "\n",
              "<text class=\"displacy-token\" fill=\"currentColor\" text-anchor=\"middle\" y=\"484.5\">\n",
              "    <tspan class=\"displacy-word\" fill=\"currentColor\" x=\"925\">lawyer,</tspan>\n",
              "    <tspan class=\"displacy-tag\" dy=\"2em\" fill=\"currentColor\" x=\"925\">NOUN</tspan>\n",
              "</text>\n",
              "\n",
              "<text class=\"displacy-token\" fill=\"currentColor\" text-anchor=\"middle\" y=\"484.5\">\n",
              "    <tspan class=\"displacy-word\" fill=\"currentColor\" x=\"1100\">politician,</tspan>\n",
              "    <tspan class=\"displacy-tag\" dy=\"2em\" fill=\"currentColor\" x=\"1100\">NOUN</tspan>\n",
              "</text>\n",
              "\n",
              "<text class=\"displacy-token\" fill=\"currentColor\" text-anchor=\"middle\" y=\"484.5\">\n",
              "    <tspan class=\"displacy-word\" fill=\"currentColor\" x=\"1275\">and</tspan>\n",
              "    <tspan class=\"displacy-tag\" dy=\"2em\" fill=\"currentColor\" x=\"1275\">CCONJ</tspan>\n",
              "</text>\n",
              "\n",
              "<text class=\"displacy-token\" fill=\"currentColor\" text-anchor=\"middle\" y=\"484.5\">\n",
              "    <tspan class=\"displacy-word\" fill=\"currentColor\" x=\"1450\">statesman</tspan>\n",
              "    <tspan class=\"displacy-tag\" dy=\"2em\" fill=\"currentColor\" x=\"1450\">NOUN</tspan>\n",
              "</text>\n",
              "\n",
              "<text class=\"displacy-token\" fill=\"currentColor\" text-anchor=\"middle\" y=\"484.5\">\n",
              "    <tspan class=\"displacy-word\" fill=\"currentColor\" x=\"1625\">who</tspan>\n",
              "    <tspan class=\"displacy-tag\" dy=\"2em\" fill=\"currentColor\" x=\"1625\">PRON</tspan>\n",
              "</text>\n",
              "\n",
              "<text class=\"displacy-token\" fill=\"currentColor\" text-anchor=\"middle\" y=\"484.5\">\n",
              "    <tspan class=\"displacy-word\" fill=\"currentColor\" x=\"1800\">served</tspan>\n",
              "    <tspan class=\"displacy-tag\" dy=\"2em\" fill=\"currentColor\" x=\"1800\">VERB</tspan>\n",
              "</text>\n",
              "\n",
              "<text class=\"displacy-token\" fill=\"currentColor\" text-anchor=\"middle\" y=\"484.5\">\n",
              "    <tspan class=\"displacy-word\" fill=\"currentColor\" x=\"1975\">as</tspan>\n",
              "    <tspan class=\"displacy-tag\" dy=\"2em\" fill=\"currentColor\" x=\"1975\">ADP</tspan>\n",
              "</text>\n",
              "\n",
              "<text class=\"displacy-token\" fill=\"currentColor\" text-anchor=\"middle\" y=\"484.5\">\n",
              "    <tspan class=\"displacy-word\" fill=\"currentColor\" x=\"2150\">the</tspan>\n",
              "    <tspan class=\"displacy-tag\" dy=\"2em\" fill=\"currentColor\" x=\"2150\">DET</tspan>\n",
              "</text>\n",
              "\n",
              "<text class=\"displacy-token\" fill=\"currentColor\" text-anchor=\"middle\" y=\"484.5\">\n",
              "    <tspan class=\"displacy-word\" fill=\"currentColor\" x=\"2325\">16th</tspan>\n",
              "    <tspan class=\"displacy-tag\" dy=\"2em\" fill=\"currentColor\" x=\"2325\">ADJ</tspan>\n",
              "</text>\n",
              "\n",
              "<text class=\"displacy-token\" fill=\"currentColor\" text-anchor=\"middle\" y=\"484.5\">\n",
              "    <tspan class=\"displacy-word\" fill=\"currentColor\" x=\"2500\">president</tspan>\n",
              "    <tspan class=\"displacy-tag\" dy=\"2em\" fill=\"currentColor\" x=\"2500\">NOUN</tspan>\n",
              "</text>\n",
              "\n",
              "<text class=\"displacy-token\" fill=\"currentColor\" text-anchor=\"middle\" y=\"484.5\">\n",
              "    <tspan class=\"displacy-word\" fill=\"currentColor\" x=\"2675\">of</tspan>\n",
              "    <tspan class=\"displacy-tag\" dy=\"2em\" fill=\"currentColor\" x=\"2675\">ADP</tspan>\n",
              "</text>\n",
              "\n",
              "<text class=\"displacy-token\" fill=\"currentColor\" text-anchor=\"middle\" y=\"484.5\">\n",
              "    <tspan class=\"displacy-word\" fill=\"currentColor\" x=\"2850\">the</tspan>\n",
              "    <tspan class=\"displacy-tag\" dy=\"2em\" fill=\"currentColor\" x=\"2850\">DET</tspan>\n",
              "</text>\n",
              "\n",
              "<text class=\"displacy-token\" fill=\"currentColor\" text-anchor=\"middle\" y=\"484.5\">\n",
              "    <tspan class=\"displacy-word\" fill=\"currentColor\" x=\"3025\">United</tspan>\n",
              "    <tspan class=\"displacy-tag\" dy=\"2em\" fill=\"currentColor\" x=\"3025\">PROPN</tspan>\n",
              "</text>\n",
              "\n",
              "<text class=\"displacy-token\" fill=\"currentColor\" text-anchor=\"middle\" y=\"484.5\">\n",
              "    <tspan class=\"displacy-word\" fill=\"currentColor\" x=\"3200\">States</tspan>\n",
              "    <tspan class=\"displacy-tag\" dy=\"2em\" fill=\"currentColor\" x=\"3200\">PROPN</tspan>\n",
              "</text>\n",
              "\n",
              "<text class=\"displacy-token\" fill=\"currentColor\" text-anchor=\"middle\" y=\"484.5\">\n",
              "    <tspan class=\"displacy-word\" fill=\"currentColor\" x=\"3375\">from</tspan>\n",
              "    <tspan class=\"displacy-tag\" dy=\"2em\" fill=\"currentColor\" x=\"3375\">ADP</tspan>\n",
              "</text>\n",
              "\n",
              "<text class=\"displacy-token\" fill=\"currentColor\" text-anchor=\"middle\" y=\"484.5\">\n",
              "    <tspan class=\"displacy-word\" fill=\"currentColor\" x=\"3550\">1861</tspan>\n",
              "    <tspan class=\"displacy-tag\" dy=\"2em\" fill=\"currentColor\" x=\"3550\">NUM</tspan>\n",
              "</text>\n",
              "\n",
              "<text class=\"displacy-token\" fill=\"currentColor\" text-anchor=\"middle\" y=\"484.5\">\n",
              "    <tspan class=\"displacy-word\" fill=\"currentColor\" x=\"3725\">until</tspan>\n",
              "    <tspan class=\"displacy-tag\" dy=\"2em\" fill=\"currentColor\" x=\"3725\">ADP</tspan>\n",
              "</text>\n",
              "\n",
              "<text class=\"displacy-token\" fill=\"currentColor\" text-anchor=\"middle\" y=\"484.5\">\n",
              "    <tspan class=\"displacy-word\" fill=\"currentColor\" x=\"3900\">his</tspan>\n",
              "    <tspan class=\"displacy-tag\" dy=\"2em\" fill=\"currentColor\" x=\"3900\">PRON</tspan>\n",
              "</text>\n",
              "\n",
              "<text class=\"displacy-token\" fill=\"currentColor\" text-anchor=\"middle\" y=\"484.5\">\n",
              "    <tspan class=\"displacy-word\" fill=\"currentColor\" x=\"4075\">assassination</tspan>\n",
              "    <tspan class=\"displacy-tag\" dy=\"2em\" fill=\"currentColor\" x=\"4075\">NOUN</tspan>\n",
              "</text>\n",
              "\n",
              "<text class=\"displacy-token\" fill=\"currentColor\" text-anchor=\"middle\" y=\"484.5\">\n",
              "    <tspan class=\"displacy-word\" fill=\"currentColor\" x=\"4250\">in</tspan>\n",
              "    <tspan class=\"displacy-tag\" dy=\"2em\" fill=\"currentColor\" x=\"4250\">ADP</tspan>\n",
              "</text>\n",
              "\n",
              "<text class=\"displacy-token\" fill=\"currentColor\" text-anchor=\"middle\" y=\"484.5\">\n",
              "    <tspan class=\"displacy-word\" fill=\"currentColor\" x=\"4425\">1865.</tspan>\n",
              "    <tspan class=\"displacy-tag\" dy=\"2em\" fill=\"currentColor\" x=\"4425\">NUM</tspan>\n",
              "</text>\n",
              "\n",
              "<g class=\"displacy-arrow\">\n",
              "    <path class=\"displacy-arc\" id=\"arrow-c542c409286a4e40b37cf6f940f2e092-0-0\" stroke-width=\"2px\" d=\"M70,439.5 C70,352.0 205.0,352.0 205.0,439.5\" fill=\"none\" stroke=\"currentColor\"/>\n",
              "    <text dy=\"1.25em\" style=\"font-size: 0.8em; letter-spacing: 1px\">\n",
              "        <textPath xlink:href=\"#arrow-c542c409286a4e40b37cf6f940f2e092-0-0\" class=\"displacy-label\" startOffset=\"50%\" side=\"left\" fill=\"currentColor\" text-anchor=\"middle\">compound</textPath>\n",
              "    </text>\n",
              "    <path class=\"displacy-arrowhead\" d=\"M70,441.5 L62,429.5 78,429.5\" fill=\"currentColor\"/>\n",
              "</g>\n",
              "\n",
              "<g class=\"displacy-arrow\">\n",
              "    <path class=\"displacy-arc\" id=\"arrow-c542c409286a4e40b37cf6f940f2e092-0-1\" stroke-width=\"2px\" d=\"M245,439.5 C245,352.0 380.0,352.0 380.0,439.5\" fill=\"none\" stroke=\"currentColor\"/>\n",
              "    <text dy=\"1.25em\" style=\"font-size: 0.8em; letter-spacing: 1px\">\n",
              "        <textPath xlink:href=\"#arrow-c542c409286a4e40b37cf6f940f2e092-0-1\" class=\"displacy-label\" startOffset=\"50%\" side=\"left\" fill=\"currentColor\" text-anchor=\"middle\">nsubj</textPath>\n",
              "    </text>\n",
              "    <path class=\"displacy-arrowhead\" d=\"M245,441.5 L237,429.5 253,429.5\" fill=\"currentColor\"/>\n",
              "</g>\n",
              "\n",
              "<g class=\"displacy-arrow\">\n",
              "    <path class=\"displacy-arc\" id=\"arrow-c542c409286a4e40b37cf6f940f2e092-0-2\" stroke-width=\"2px\" d=\"M595,439.5 C595,264.5 910.0,264.5 910.0,439.5\" fill=\"none\" stroke=\"currentColor\"/>\n",
              "    <text dy=\"1.25em\" style=\"font-size: 0.8em; letter-spacing: 1px\">\n",
              "        <textPath xlink:href=\"#arrow-c542c409286a4e40b37cf6f940f2e092-0-2\" class=\"displacy-label\" startOffset=\"50%\" side=\"left\" fill=\"currentColor\" text-anchor=\"middle\">det</textPath>\n",
              "    </text>\n",
              "    <path class=\"displacy-arrowhead\" d=\"M595,441.5 L587,429.5 603,429.5\" fill=\"currentColor\"/>\n",
              "</g>\n",
              "\n",
              "<g class=\"displacy-arrow\">\n",
              "    <path class=\"displacy-arc\" id=\"arrow-c542c409286a4e40b37cf6f940f2e092-0-3\" stroke-width=\"2px\" d=\"M770,439.5 C770,352.0 905.0,352.0 905.0,439.5\" fill=\"none\" stroke=\"currentColor\"/>\n",
              "    <text dy=\"1.25em\" style=\"font-size: 0.8em; letter-spacing: 1px\">\n",
              "        <textPath xlink:href=\"#arrow-c542c409286a4e40b37cf6f940f2e092-0-3\" class=\"displacy-label\" startOffset=\"50%\" side=\"left\" fill=\"currentColor\" text-anchor=\"middle\">amod</textPath>\n",
              "    </text>\n",
              "    <path class=\"displacy-arrowhead\" d=\"M770,441.5 L762,429.5 778,429.5\" fill=\"currentColor\"/>\n",
              "</g>\n",
              "\n",
              "<g class=\"displacy-arrow\">\n",
              "    <path class=\"displacy-arc\" id=\"arrow-c542c409286a4e40b37cf6f940f2e092-0-4\" stroke-width=\"2px\" d=\"M420,439.5 C420,177.0 915.0,177.0 915.0,439.5\" fill=\"none\" stroke=\"currentColor\"/>\n",
              "    <text dy=\"1.25em\" style=\"font-size: 0.8em; letter-spacing: 1px\">\n",
              "        <textPath xlink:href=\"#arrow-c542c409286a4e40b37cf6f940f2e092-0-4\" class=\"displacy-label\" startOffset=\"50%\" side=\"left\" fill=\"currentColor\" text-anchor=\"middle\">attr</textPath>\n",
              "    </text>\n",
              "    <path class=\"displacy-arrowhead\" d=\"M915.0,441.5 L923.0,429.5 907.0,429.5\" fill=\"currentColor\"/>\n",
              "</g>\n",
              "\n",
              "<g class=\"displacy-arrow\">\n",
              "    <path class=\"displacy-arc\" id=\"arrow-c542c409286a4e40b37cf6f940f2e092-0-5\" stroke-width=\"2px\" d=\"M945,439.5 C945,352.0 1080.0,352.0 1080.0,439.5\" fill=\"none\" stroke=\"currentColor\"/>\n",
              "    <text dy=\"1.25em\" style=\"font-size: 0.8em; letter-spacing: 1px\">\n",
              "        <textPath xlink:href=\"#arrow-c542c409286a4e40b37cf6f940f2e092-0-5\" class=\"displacy-label\" startOffset=\"50%\" side=\"left\" fill=\"currentColor\" text-anchor=\"middle\">conj</textPath>\n",
              "    </text>\n",
              "    <path class=\"displacy-arrowhead\" d=\"M1080.0,441.5 L1088.0,429.5 1072.0,429.5\" fill=\"currentColor\"/>\n",
              "</g>\n",
              "\n",
              "<g class=\"displacy-arrow\">\n",
              "    <path class=\"displacy-arc\" id=\"arrow-c542c409286a4e40b37cf6f940f2e092-0-6\" stroke-width=\"2px\" d=\"M1120,439.5 C1120,352.0 1255.0,352.0 1255.0,439.5\" fill=\"none\" stroke=\"currentColor\"/>\n",
              "    <text dy=\"1.25em\" style=\"font-size: 0.8em; letter-spacing: 1px\">\n",
              "        <textPath xlink:href=\"#arrow-c542c409286a4e40b37cf6f940f2e092-0-6\" class=\"displacy-label\" startOffset=\"50%\" side=\"left\" fill=\"currentColor\" text-anchor=\"middle\">cc</textPath>\n",
              "    </text>\n",
              "    <path class=\"displacy-arrowhead\" d=\"M1255.0,441.5 L1263.0,429.5 1247.0,429.5\" fill=\"currentColor\"/>\n",
              "</g>\n",
              "\n",
              "<g class=\"displacy-arrow\">\n",
              "    <path class=\"displacy-arc\" id=\"arrow-c542c409286a4e40b37cf6f940f2e092-0-7\" stroke-width=\"2px\" d=\"M1120,439.5 C1120,264.5 1435.0,264.5 1435.0,439.5\" fill=\"none\" stroke=\"currentColor\"/>\n",
              "    <text dy=\"1.25em\" style=\"font-size: 0.8em; letter-spacing: 1px\">\n",
              "        <textPath xlink:href=\"#arrow-c542c409286a4e40b37cf6f940f2e092-0-7\" class=\"displacy-label\" startOffset=\"50%\" side=\"left\" fill=\"currentColor\" text-anchor=\"middle\">conj</textPath>\n",
              "    </text>\n",
              "    <path class=\"displacy-arrowhead\" d=\"M1435.0,441.5 L1443.0,429.5 1427.0,429.5\" fill=\"currentColor\"/>\n",
              "</g>\n",
              "\n",
              "<g class=\"displacy-arrow\">\n",
              "    <path class=\"displacy-arc\" id=\"arrow-c542c409286a4e40b37cf6f940f2e092-0-8\" stroke-width=\"2px\" d=\"M1645,439.5 C1645,352.0 1780.0,352.0 1780.0,439.5\" fill=\"none\" stroke=\"currentColor\"/>\n",
              "    <text dy=\"1.25em\" style=\"font-size: 0.8em; letter-spacing: 1px\">\n",
              "        <textPath xlink:href=\"#arrow-c542c409286a4e40b37cf6f940f2e092-0-8\" class=\"displacy-label\" startOffset=\"50%\" side=\"left\" fill=\"currentColor\" text-anchor=\"middle\">nsubj</textPath>\n",
              "    </text>\n",
              "    <path class=\"displacy-arrowhead\" d=\"M1645,441.5 L1637,429.5 1653,429.5\" fill=\"currentColor\"/>\n",
              "</g>\n",
              "\n",
              "<g class=\"displacy-arrow\">\n",
              "    <path class=\"displacy-arc\" id=\"arrow-c542c409286a4e40b37cf6f940f2e092-0-9\" stroke-width=\"2px\" d=\"M945,439.5 C945,177.0 1790.0,177.0 1790.0,439.5\" fill=\"none\" stroke=\"currentColor\"/>\n",
              "    <text dy=\"1.25em\" style=\"font-size: 0.8em; letter-spacing: 1px\">\n",
              "        <textPath xlink:href=\"#arrow-c542c409286a4e40b37cf6f940f2e092-0-9\" class=\"displacy-label\" startOffset=\"50%\" side=\"left\" fill=\"currentColor\" text-anchor=\"middle\">relcl</textPath>\n",
              "    </text>\n",
              "    <path class=\"displacy-arrowhead\" d=\"M1790.0,441.5 L1798.0,429.5 1782.0,429.5\" fill=\"currentColor\"/>\n",
              "</g>\n",
              "\n",
              "<g class=\"displacy-arrow\">\n",
              "    <path class=\"displacy-arc\" id=\"arrow-c542c409286a4e40b37cf6f940f2e092-0-10\" stroke-width=\"2px\" d=\"M1820,439.5 C1820,352.0 1955.0,352.0 1955.0,439.5\" fill=\"none\" stroke=\"currentColor\"/>\n",
              "    <text dy=\"1.25em\" style=\"font-size: 0.8em; letter-spacing: 1px\">\n",
              "        <textPath xlink:href=\"#arrow-c542c409286a4e40b37cf6f940f2e092-0-10\" class=\"displacy-label\" startOffset=\"50%\" side=\"left\" fill=\"currentColor\" text-anchor=\"middle\">prep</textPath>\n",
              "    </text>\n",
              "    <path class=\"displacy-arrowhead\" d=\"M1955.0,441.5 L1963.0,429.5 1947.0,429.5\" fill=\"currentColor\"/>\n",
              "</g>\n",
              "\n",
              "<g class=\"displacy-arrow\">\n",
              "    <path class=\"displacy-arc\" id=\"arrow-c542c409286a4e40b37cf6f940f2e092-0-11\" stroke-width=\"2px\" d=\"M2170,439.5 C2170,264.5 2485.0,264.5 2485.0,439.5\" fill=\"none\" stroke=\"currentColor\"/>\n",
              "    <text dy=\"1.25em\" style=\"font-size: 0.8em; letter-spacing: 1px\">\n",
              "        <textPath xlink:href=\"#arrow-c542c409286a4e40b37cf6f940f2e092-0-11\" class=\"displacy-label\" startOffset=\"50%\" side=\"left\" fill=\"currentColor\" text-anchor=\"middle\">det</textPath>\n",
              "    </text>\n",
              "    <path class=\"displacy-arrowhead\" d=\"M2170,441.5 L2162,429.5 2178,429.5\" fill=\"currentColor\"/>\n",
              "</g>\n",
              "\n",
              "<g class=\"displacy-arrow\">\n",
              "    <path class=\"displacy-arc\" id=\"arrow-c542c409286a4e40b37cf6f940f2e092-0-12\" stroke-width=\"2px\" d=\"M2345,439.5 C2345,352.0 2480.0,352.0 2480.0,439.5\" fill=\"none\" stroke=\"currentColor\"/>\n",
              "    <text dy=\"1.25em\" style=\"font-size: 0.8em; letter-spacing: 1px\">\n",
              "        <textPath xlink:href=\"#arrow-c542c409286a4e40b37cf6f940f2e092-0-12\" class=\"displacy-label\" startOffset=\"50%\" side=\"left\" fill=\"currentColor\" text-anchor=\"middle\">amod</textPath>\n",
              "    </text>\n",
              "    <path class=\"displacy-arrowhead\" d=\"M2345,441.5 L2337,429.5 2353,429.5\" fill=\"currentColor\"/>\n",
              "</g>\n",
              "\n",
              "<g class=\"displacy-arrow\">\n",
              "    <path class=\"displacy-arc\" id=\"arrow-c542c409286a4e40b37cf6f940f2e092-0-13\" stroke-width=\"2px\" d=\"M1995,439.5 C1995,177.0 2490.0,177.0 2490.0,439.5\" fill=\"none\" stroke=\"currentColor\"/>\n",
              "    <text dy=\"1.25em\" style=\"font-size: 0.8em; letter-spacing: 1px\">\n",
              "        <textPath xlink:href=\"#arrow-c542c409286a4e40b37cf6f940f2e092-0-13\" class=\"displacy-label\" startOffset=\"50%\" side=\"left\" fill=\"currentColor\" text-anchor=\"middle\">pobj</textPath>\n",
              "    </text>\n",
              "    <path class=\"displacy-arrowhead\" d=\"M2490.0,441.5 L2498.0,429.5 2482.0,429.5\" fill=\"currentColor\"/>\n",
              "</g>\n",
              "\n",
              "<g class=\"displacy-arrow\">\n",
              "    <path class=\"displacy-arc\" id=\"arrow-c542c409286a4e40b37cf6f940f2e092-0-14\" stroke-width=\"2px\" d=\"M2520,439.5 C2520,352.0 2655.0,352.0 2655.0,439.5\" fill=\"none\" stroke=\"currentColor\"/>\n",
              "    <text dy=\"1.25em\" style=\"font-size: 0.8em; letter-spacing: 1px\">\n",
              "        <textPath xlink:href=\"#arrow-c542c409286a4e40b37cf6f940f2e092-0-14\" class=\"displacy-label\" startOffset=\"50%\" side=\"left\" fill=\"currentColor\" text-anchor=\"middle\">prep</textPath>\n",
              "    </text>\n",
              "    <path class=\"displacy-arrowhead\" d=\"M2655.0,441.5 L2663.0,429.5 2647.0,429.5\" fill=\"currentColor\"/>\n",
              "</g>\n",
              "\n",
              "<g class=\"displacy-arrow\">\n",
              "    <path class=\"displacy-arc\" id=\"arrow-c542c409286a4e40b37cf6f940f2e092-0-15\" stroke-width=\"2px\" d=\"M2870,439.5 C2870,264.5 3185.0,264.5 3185.0,439.5\" fill=\"none\" stroke=\"currentColor\"/>\n",
              "    <text dy=\"1.25em\" style=\"font-size: 0.8em; letter-spacing: 1px\">\n",
              "        <textPath xlink:href=\"#arrow-c542c409286a4e40b37cf6f940f2e092-0-15\" class=\"displacy-label\" startOffset=\"50%\" side=\"left\" fill=\"currentColor\" text-anchor=\"middle\">det</textPath>\n",
              "    </text>\n",
              "    <path class=\"displacy-arrowhead\" d=\"M2870,441.5 L2862,429.5 2878,429.5\" fill=\"currentColor\"/>\n",
              "</g>\n",
              "\n",
              "<g class=\"displacy-arrow\">\n",
              "    <path class=\"displacy-arc\" id=\"arrow-c542c409286a4e40b37cf6f940f2e092-0-16\" stroke-width=\"2px\" d=\"M3045,439.5 C3045,352.0 3180.0,352.0 3180.0,439.5\" fill=\"none\" stroke=\"currentColor\"/>\n",
              "    <text dy=\"1.25em\" style=\"font-size: 0.8em; letter-spacing: 1px\">\n",
              "        <textPath xlink:href=\"#arrow-c542c409286a4e40b37cf6f940f2e092-0-16\" class=\"displacy-label\" startOffset=\"50%\" side=\"left\" fill=\"currentColor\" text-anchor=\"middle\">compound</textPath>\n",
              "    </text>\n",
              "    <path class=\"displacy-arrowhead\" d=\"M3045,441.5 L3037,429.5 3053,429.5\" fill=\"currentColor\"/>\n",
              "</g>\n",
              "\n",
              "<g class=\"displacy-arrow\">\n",
              "    <path class=\"displacy-arc\" id=\"arrow-c542c409286a4e40b37cf6f940f2e092-0-17\" stroke-width=\"2px\" d=\"M2695,439.5 C2695,177.0 3190.0,177.0 3190.0,439.5\" fill=\"none\" stroke=\"currentColor\"/>\n",
              "    <text dy=\"1.25em\" style=\"font-size: 0.8em; letter-spacing: 1px\">\n",
              "        <textPath xlink:href=\"#arrow-c542c409286a4e40b37cf6f940f2e092-0-17\" class=\"displacy-label\" startOffset=\"50%\" side=\"left\" fill=\"currentColor\" text-anchor=\"middle\">pobj</textPath>\n",
              "    </text>\n",
              "    <path class=\"displacy-arrowhead\" d=\"M3190.0,441.5 L3198.0,429.5 3182.0,429.5\" fill=\"currentColor\"/>\n",
              "</g>\n",
              "\n",
              "<g class=\"displacy-arrow\">\n",
              "    <path class=\"displacy-arc\" id=\"arrow-c542c409286a4e40b37cf6f940f2e092-0-18\" stroke-width=\"2px\" d=\"M1820,439.5 C1820,89.5 3370.0,89.5 3370.0,439.5\" fill=\"none\" stroke=\"currentColor\"/>\n",
              "    <text dy=\"1.25em\" style=\"font-size: 0.8em; letter-spacing: 1px\">\n",
              "        <textPath xlink:href=\"#arrow-c542c409286a4e40b37cf6f940f2e092-0-18\" class=\"displacy-label\" startOffset=\"50%\" side=\"left\" fill=\"currentColor\" text-anchor=\"middle\">prep</textPath>\n",
              "    </text>\n",
              "    <path class=\"displacy-arrowhead\" d=\"M3370.0,441.5 L3378.0,429.5 3362.0,429.5\" fill=\"currentColor\"/>\n",
              "</g>\n",
              "\n",
              "<g class=\"displacy-arrow\">\n",
              "    <path class=\"displacy-arc\" id=\"arrow-c542c409286a4e40b37cf6f940f2e092-0-19\" stroke-width=\"2px\" d=\"M3395,439.5 C3395,352.0 3530.0,352.0 3530.0,439.5\" fill=\"none\" stroke=\"currentColor\"/>\n",
              "    <text dy=\"1.25em\" style=\"font-size: 0.8em; letter-spacing: 1px\">\n",
              "        <textPath xlink:href=\"#arrow-c542c409286a4e40b37cf6f940f2e092-0-19\" class=\"displacy-label\" startOffset=\"50%\" side=\"left\" fill=\"currentColor\" text-anchor=\"middle\">pobj</textPath>\n",
              "    </text>\n",
              "    <path class=\"displacy-arrowhead\" d=\"M3530.0,441.5 L3538.0,429.5 3522.0,429.5\" fill=\"currentColor\"/>\n",
              "</g>\n",
              "\n",
              "<g class=\"displacy-arrow\">\n",
              "    <path class=\"displacy-arc\" id=\"arrow-c542c409286a4e40b37cf6f940f2e092-0-20\" stroke-width=\"2px\" d=\"M1820,439.5 C1820,2.0 3725.0,2.0 3725.0,439.5\" fill=\"none\" stroke=\"currentColor\"/>\n",
              "    <text dy=\"1.25em\" style=\"font-size: 0.8em; letter-spacing: 1px\">\n",
              "        <textPath xlink:href=\"#arrow-c542c409286a4e40b37cf6f940f2e092-0-20\" class=\"displacy-label\" startOffset=\"50%\" side=\"left\" fill=\"currentColor\" text-anchor=\"middle\">prep</textPath>\n",
              "    </text>\n",
              "    <path class=\"displacy-arrowhead\" d=\"M3725.0,441.5 L3733.0,429.5 3717.0,429.5\" fill=\"currentColor\"/>\n",
              "</g>\n",
              "\n",
              "<g class=\"displacy-arrow\">\n",
              "    <path class=\"displacy-arc\" id=\"arrow-c542c409286a4e40b37cf6f940f2e092-0-21\" stroke-width=\"2px\" d=\"M3920,439.5 C3920,352.0 4055.0,352.0 4055.0,439.5\" fill=\"none\" stroke=\"currentColor\"/>\n",
              "    <text dy=\"1.25em\" style=\"font-size: 0.8em; letter-spacing: 1px\">\n",
              "        <textPath xlink:href=\"#arrow-c542c409286a4e40b37cf6f940f2e092-0-21\" class=\"displacy-label\" startOffset=\"50%\" side=\"left\" fill=\"currentColor\" text-anchor=\"middle\">poss</textPath>\n",
              "    </text>\n",
              "    <path class=\"displacy-arrowhead\" d=\"M3920,441.5 L3912,429.5 3928,429.5\" fill=\"currentColor\"/>\n",
              "</g>\n",
              "\n",
              "<g class=\"displacy-arrow\">\n",
              "    <path class=\"displacy-arc\" id=\"arrow-c542c409286a4e40b37cf6f940f2e092-0-22\" stroke-width=\"2px\" d=\"M3745,439.5 C3745,264.5 4060.0,264.5 4060.0,439.5\" fill=\"none\" stroke=\"currentColor\"/>\n",
              "    <text dy=\"1.25em\" style=\"font-size: 0.8em; letter-spacing: 1px\">\n",
              "        <textPath xlink:href=\"#arrow-c542c409286a4e40b37cf6f940f2e092-0-22\" class=\"displacy-label\" startOffset=\"50%\" side=\"left\" fill=\"currentColor\" text-anchor=\"middle\">pobj</textPath>\n",
              "    </text>\n",
              "    <path class=\"displacy-arrowhead\" d=\"M4060.0,441.5 L4068.0,429.5 4052.0,429.5\" fill=\"currentColor\"/>\n",
              "</g>\n",
              "\n",
              "<g class=\"displacy-arrow\">\n",
              "    <path class=\"displacy-arc\" id=\"arrow-c542c409286a4e40b37cf6f940f2e092-0-23\" stroke-width=\"2px\" d=\"M4095,439.5 C4095,352.0 4230.0,352.0 4230.0,439.5\" fill=\"none\" stroke=\"currentColor\"/>\n",
              "    <text dy=\"1.25em\" style=\"font-size: 0.8em; letter-spacing: 1px\">\n",
              "        <textPath xlink:href=\"#arrow-c542c409286a4e40b37cf6f940f2e092-0-23\" class=\"displacy-label\" startOffset=\"50%\" side=\"left\" fill=\"currentColor\" text-anchor=\"middle\">prep</textPath>\n",
              "    </text>\n",
              "    <path class=\"displacy-arrowhead\" d=\"M4230.0,441.5 L4238.0,429.5 4222.0,429.5\" fill=\"currentColor\"/>\n",
              "</g>\n",
              "\n",
              "<g class=\"displacy-arrow\">\n",
              "    <path class=\"displacy-arc\" id=\"arrow-c542c409286a4e40b37cf6f940f2e092-0-24\" stroke-width=\"2px\" d=\"M4270,439.5 C4270,352.0 4405.0,352.0 4405.0,439.5\" fill=\"none\" stroke=\"currentColor\"/>\n",
              "    <text dy=\"1.25em\" style=\"font-size: 0.8em; letter-spacing: 1px\">\n",
              "        <textPath xlink:href=\"#arrow-c542c409286a4e40b37cf6f940f2e092-0-24\" class=\"displacy-label\" startOffset=\"50%\" side=\"left\" fill=\"currentColor\" text-anchor=\"middle\">pobj</textPath>\n",
              "    </text>\n",
              "    <path class=\"displacy-arrowhead\" d=\"M4405.0,441.5 L4413.0,429.5 4397.0,429.5\" fill=\"currentColor\"/>\n",
              "</g>\n",
              "</svg></span>"
            ]
          },
          "metadata": {}
        }
      ]
    },
    {
      "cell_type": "code",
      "source": [
        "for token in doc[0:29].ents:\n",
        "  print('{:10} | {:50}'.format(token.label_, token.text))"
      ],
      "metadata": {
        "colab": {
          "base_uri": "https://localhost:8080/"
        },
        "id": "OQFYHko5Y1ru",
        "outputId": "e4b4f964-91cf-4a49-92db-f0afab05ebcd"
      },
      "execution_count": null,
      "outputs": [
        {
          "output_type": "stream",
          "name": "stdout",
          "text": [
            "PERSON     | Abraham Lincoln                                   \n",
            "NORP       | American                                          \n",
            "ORDINAL    | 16th                                              \n",
            "GPE        | the United States                                 \n",
            "DATE       | 1861                                              \n",
            "DATE       | 1865                                              \n"
          ]
        }
      ]
    },
    {
      "cell_type": "code",
      "source": [
        "doc[0:29].ents"
      ],
      "metadata": {
        "colab": {
          "base_uri": "https://localhost:8080/"
        },
        "id": "90B5xPwGaIJb",
        "outputId": "696ce69d-b302-477c-a654-2b5525f519ff"
      },
      "execution_count": null,
      "outputs": [
        {
          "output_type": "execute_result",
          "data": {
            "text/plain": [
              "[Abraham Lincoln, American, 16th, the United States, 1861, 1865]"
            ]
          },
          "metadata": {},
          "execution_count": 63
        }
      ]
    },
    {
      "cell_type": "code",
      "source": [
        "displacy.render(docs = doc[0:29], style = 'ent', jupyter= True)"
      ],
      "metadata": {
        "colab": {
          "base_uri": "https://localhost:8080/",
          "height": 107
        },
        "id": "3X4xclIpafoC",
        "outputId": "a3a2c2f2-4067-4d4f-b2bc-c85133c36f93"
      },
      "execution_count": null,
      "outputs": [
        {
          "output_type": "display_data",
          "data": {
            "text/plain": [
              "<IPython.core.display.HTML object>"
            ],
            "text/html": [
              "<span class=\"tex2jax_ignore\"><div class=\"entities\" style=\"line-height: 2.5; direction: ltr\">\n",
              "<mark class=\"entity\" style=\"background: #aa9cfc; padding: 0.45em 0.6em; margin: 0 0.25em; line-height: 1; border-radius: 0.35em;\">\n",
              "    Abraham Lincoln\n",
              "    <span style=\"font-size: 0.8em; font-weight: bold; line-height: 1; border-radius: 0.35em; vertical-align: middle; margin-left: 0.5rem\">PERSON</span>\n",
              "</mark>\n",
              " was an \n",
              "<mark class=\"entity\" style=\"background: #c887fb; padding: 0.45em 0.6em; margin: 0 0.25em; line-height: 1; border-radius: 0.35em;\">\n",
              "    American\n",
              "    <span style=\"font-size: 0.8em; font-weight: bold; line-height: 1; border-radius: 0.35em; vertical-align: middle; margin-left: 0.5rem\">NORP</span>\n",
              "</mark>\n",
              " lawyer, politician, and statesman who served as the \n",
              "<mark class=\"entity\" style=\"background: #e4e7d2; padding: 0.45em 0.6em; margin: 0 0.25em; line-height: 1; border-radius: 0.35em;\">\n",
              "    16th\n",
              "    <span style=\"font-size: 0.8em; font-weight: bold; line-height: 1; border-radius: 0.35em; vertical-align: middle; margin-left: 0.5rem\">ORDINAL</span>\n",
              "</mark>\n",
              " president of \n",
              "<mark class=\"entity\" style=\"background: #feca74; padding: 0.45em 0.6em; margin: 0 0.25em; line-height: 1; border-radius: 0.35em;\">\n",
              "    the United States\n",
              "    <span style=\"font-size: 0.8em; font-weight: bold; line-height: 1; border-radius: 0.35em; vertical-align: middle; margin-left: 0.5rem\">GPE</span>\n",
              "</mark>\n",
              " from \n",
              "<mark class=\"entity\" style=\"background: #bfe1d9; padding: 0.45em 0.6em; margin: 0 0.25em; line-height: 1; border-radius: 0.35em;\">\n",
              "    1861\n",
              "    <span style=\"font-size: 0.8em; font-weight: bold; line-height: 1; border-radius: 0.35em; vertical-align: middle; margin-left: 0.5rem\">DATE</span>\n",
              "</mark>\n",
              " until his assassination in \n",
              "<mark class=\"entity\" style=\"background: #bfe1d9; padding: 0.45em 0.6em; margin: 0 0.25em; line-height: 1; border-radius: 0.35em;\">\n",
              "    1865\n",
              "    <span style=\"font-size: 0.8em; font-weight: bold; line-height: 1; border-radius: 0.35em; vertical-align: middle; margin-left: 0.5rem\">DATE</span>\n",
              "</mark>\n",
              ". </div></span>"
            ]
          },
          "metadata": {}
        }
      ]
    },
    {
      "cell_type": "code",
      "source": [
        "text_with_email ='''In the vibrant metropolis of Pixelville, where technology and creativity converge, a myriad of characters thrive in their unique pursuits. Samson Steele (samson.steele@pixelville.net), the genius software developer, tinkers away on groundbreaking AI algorithms that could revolutionize the world. Meanwhile, Luna Sparkle (luna.sparkle@starrydreams.com), the talented artist, breathes life into her canvas with strokes of magic, bringing dreams to reality.\n",
        "\n",
        "In a quaint café on the corner, Oliver Whittaker (oliver.whittaker@cafébliss.org), the coffee connoisseur, brews the finest blends for patrons, his passion evident in every cup. Just across the street, Amelia Rosewood (amelia.rosewood@booknook.com), an avid bibliophile, curates an extensive collection of literature, enticing bookworms from all walks of life.\n",
        "\n",
        "Venturing to the outskirts of Pixelville, the landscape changes, and there stands the enigmatic Eden Blackthorn (eden.blackthorn@twilightwilds.org), a wilderness explorer clad in adventure gear, ready to unearth the secrets of the untamed wilderness. Nearby, in a state-of-the-art laboratory, Dr. Xavier Quantum (xavier.quantum@innovationlabs.tech) conducts groundbreaking experiments, pushing the boundaries of science.\n",
        "\n",
        "In the heart of the city, the stage is set for the annual Pixels & Stars Gala, organized by the effervescent event planner, Penelope Nightingale (penelope.nightingale@eventsunlimited.co), who ensures that the night sparkles with elegance and wonder.\n",
        "\n",
        "However, amidst the bustling city life, a mysterious figure lurks in the shadows. Known only as Phantom (phantom@shadownet.com), this elusive hacker navigates the digital realm, weaving intricate webs of anonymity.\n",
        "\n",
        "As the sun sets over Pixelville, the city transforms into a neon wonderland, where creativity and technology intertwine, and dreams take flight. Each character plays a vital role in this ever-evolving tapestry, with their unique email-IDs symbolizing their individuality in this vibrant world of possibilities. (Please note that the email-IDs are entirely fictional and not associated with any real domains or individuals.)'''"
      ],
      "metadata": {
        "id": "bIdR1i_fa15P"
      },
      "execution_count": null,
      "outputs": []
    },
    {
      "cell_type": "code",
      "source": [
        "text = \"\".join(text_with_email)"
      ],
      "metadata": {
        "id": "7_slOjc2bl6B"
      },
      "execution_count": null,
      "outputs": []
    },
    {
      "cell_type": "code",
      "source": [
        "text"
      ],
      "metadata": {
        "colab": {
          "base_uri": "https://localhost:8080/",
          "height": 278
        },
        "id": "gu5IneW_bzNR",
        "outputId": "64daac74-4758-485c-9c0b-dbef908be2b7"
      },
      "execution_count": null,
      "outputs": [
        {
          "output_type": "execute_result",
          "data": {
            "text/plain": [
              "'In the vibrant metropolis of Pixelville, where technology and creativity converge, a myriad of characters thrive in their unique pursuits. Samson Steele (samson.steele@pixelville.net), the genius software developer, tinkers away on groundbreaking AI algorithms that could revolutionize the world. Meanwhile, Luna Sparkle (luna.sparkle@starrydreams.com), the talented artist, breathes life into her canvas with strokes of magic, bringing dreams to reality.\\n\\nIn a quaint café on the corner, Oliver Whittaker (oliver.whittaker@cafébliss.org), the coffee connoisseur, brews the finest blends for patrons, his passion evident in every cup. Just across the street, Amelia Rosewood (amelia.rosewood@booknook.com), an avid bibliophile, curates an extensive collection of literature, enticing bookworms from all walks of life.\\n\\nVenturing to the outskirts of Pixelville, the landscape changes, and there stands the enigmatic Eden Blackthorn (eden.blackthorn@twilightwilds.org), a wilderness explorer clad in adventure gear, ready to unearth the secrets of the untamed wilderness. Nearby, in a state-of-the-art laboratory, Dr. Xavier Quantum (xavier.quantum@innovationlabs.tech) conducts groundbreaking experiments, pushing the boundaries of science.\\n\\nIn the heart of the city, the stage is set for the annual Pixels & Stars Gala, organized by the effervescent event planner, Penelope Nightingale (penelope.nightingale@eventsunlimited.co), who ensures that the night sparkles with elegance and wonder.\\n\\nHowever, amidst the bustling city life, a mysterious figure lurks in the shadows. Known only as Phantom (phantom@shadownet.com), this elusive hacker navigates the digital realm, weaving intricate webs of anonymity.\\n\\nAs the sun sets over Pixelville, the city transforms into a neon wonderland, where creativity and technology intertwine, and dreams take flight. Each character plays a vital role in this ever-evolving tapestry, with their unique email-IDs symbolizing their individuality in this vibrant world of possibilities. (Please note that the email-IDs are entirely fictional and not associated with any real domains or individuals.)'"
            ],
            "application/vnd.google.colaboratory.intrinsic+json": {
              "type": "string"
            }
          },
          "metadata": {},
          "execution_count": 67
        }
      ]
    },
    {
      "cell_type": "code",
      "source": [
        "email_doc = nlp(text_with_email)"
      ],
      "metadata": {
        "id": "0gcy8VDIb0CK"
      },
      "execution_count": null,
      "outputs": []
    },
    {
      "cell_type": "code",
      "source": [
        "import re\n",
        "\n",
        "mail = re.findall(r'[0-9a-zA-Z_.]+@[a-z]+\\.[a-z]+', str(email_doc))\n",
        "\n",
        "print(mail)"
      ],
      "metadata": {
        "colab": {
          "base_uri": "https://localhost:8080/"
        },
        "id": "5kuCKfB9cnOF",
        "outputId": "2b34ee10-5882-4c94-d27c-861ea4017c4d"
      },
      "execution_count": null,
      "outputs": [
        {
          "output_type": "stream",
          "name": "stdout",
          "text": [
            "['samson.steele@pixelville.net', 'luna.sparkle@starrydreams.com', 'amelia.rosewood@booknook.com', 'eden.blackthorn@twilightwilds.org', 'xavier.quantum@innovationlabs.tech', 'penelope.nightingale@eventsunlimited.co', 'phantom@shadownet.com']\n"
          ]
        }
      ]
    },
    {
      "cell_type": "code",
      "source": [
        "emails = []\n",
        "for token in email_doc:\n",
        "  if token.like_email:\n",
        "    emails.append(token.text)\n",
        "\n",
        "emails"
      ],
      "metadata": {
        "colab": {
          "base_uri": "https://localhost:8080/"
        },
        "id": "FYnqd370dE2p",
        "outputId": "f3c0efb8-2f2e-4ae0-ca42-5c39658b73aa"
      },
      "execution_count": null,
      "outputs": [
        {
          "output_type": "execute_result",
          "data": {
            "text/plain": [
              "['samson.steele@pixelville.net',\n",
              " 'luna.sparkle@starrydreams.com',\n",
              " 'amelia.rosewood@booknook.com',\n",
              " 'eden.blackthorn@twilightwilds.org',\n",
              " 'xavier.quantum@innovationlabs.tech',\n",
              " 'penelope.nightingale@eventsunlimited.co',\n",
              " 'phantom@shadownet.com']"
            ]
          },
          "metadata": {},
          "execution_count": 73
        }
      ]
    },
    {
      "cell_type": "code",
      "source": [],
      "metadata": {
        "id": "e9pU14t8daZQ"
      },
      "execution_count": null,
      "outputs": []
    }
  ]
}